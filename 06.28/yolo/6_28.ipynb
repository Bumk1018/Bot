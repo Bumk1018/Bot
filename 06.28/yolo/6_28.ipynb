{
  "nbformat": 4,
  "nbformat_minor": 0,
  "metadata": {
    "colab": {
      "provenance": []
    },
    "kernelspec": {
      "name": "python3",
      "display_name": "Python 3"
    },
    "language_info": {
      "name": "python"
    }
  },
  "cells": [
    {
      "cell_type": "markdown",
      "source": [
        "# 전봇대3팀 6.28 과제"
      ],
      "metadata": {
        "id": "dB508BVVegxq"
      }
    },
    {
      "cell_type": "markdown",
      "source": [
        "## 0. 라이브러리 import"
      ],
      "metadata": {
        "id": "cMwnZrAqhGpO"
      }
    },
    {
      "cell_type": "code",
      "source": [
        "import os\n",
        "import random\n",
        "from PIL import Image\n",
        "import torch"
      ],
      "metadata": {
        "id": "M9qko-x7hRjK"
      },
      "execution_count": null,
      "outputs": []
    },
    {
      "cell_type": "markdown",
      "source": [
        "## 1. 장치 설정"
      ],
      "metadata": {
        "id": "BW-IB2Iphr1B"
      }
    },
    {
      "cell_type": "code",
      "source": [
        "device = 'cuda' if torch.cuda.is_available() else'cpu'"
      ],
      "metadata": {
        "id": "wTasQ8Ath0Bw"
      },
      "execution_count": null,
      "outputs": []
    },
    {
      "cell_type": "markdown",
      "source": [
        "## 2. 모델 로드"
      ],
      "metadata": {
        "id": "Byh1onuph98j"
      }
    },
    {
      "cell_type": "code",
      "source": [
        "model = torch.hub.load('yolov5', 'custum', path='yolov5s.pt', source='local', device=device)"
      ],
      "metadata": {
        "id": "XnxDZ1jQiBdX"
      },
      "execution_count": null,
      "outputs": []
    },
    {
      "cell_type": "markdown",
      "source": [
        "## 3. 테스트 이미지 폴더에서 랜덤 이미지"
      ],
      "metadata": {
        "id": "n1rdUQgRicRH"
      }
    },
    {
      "cell_type": "code",
      "source": [
        "test_dir = 'test_images'\n",
        "image_files = [f for f in os.listdir(test_dir) if f.lower().endswith(('.png', '.jpg', '.jpeg'))]\n",
        "\n",
        "if not image_files:\n",
        "    raise Exception(\"test_images 폴더에 이미지가 없습니다.\")\n",
        "\n",
        "random_img = random.choice(image_files)\n",
        "image_path = os.path.join(test_dir, random_img)\n",
        "print(f\"선택된 이미지: {image_path}\")"
      ],
      "metadata": {
        "id": "St-GirEUkBTv"
      },
      "execution_count": null,
      "outputs": []
    },
    {
      "cell_type": "markdown",
      "source": [
        "## 4. 이미지 열기 및 모델에 입력"
      ],
      "metadata": {
        "id": "SxO-YUgnkLyO"
      }
    },
    {
      "cell_type": "code",
      "source": [
        "img = Image.open(image_path)\n",
        "results = model(img)"
      ],
      "metadata": {
        "id": "OZlJNUUdkP2M"
      },
      "execution_count": null,
      "outputs": []
    },
    {
      "cell_type": "markdown",
      "source": [
        "## 5. 결과 출력"
      ],
      "metadata": {
        "id": "s_eM7T3akWeb"
      }
    },
    {
      "cell_type": "code",
      "source": [
        "results.print()      # 탐지된 객체 정보 출력\n",
        "results.show()       # 결과 이미지 띄우기\n",
        "results.save()       # runs/detect/exp/ 디렉토리에 저장됨"
      ],
      "metadata": {
        "id": "5sSIrGrLkYpj"
      },
      "execution_count": null,
      "outputs": []
    },
    {
      "cell_type": "markdown",
      "source": [],
      "metadata": {
        "id": "mUeG14_GkFJT"
      }
    }
  ]
}